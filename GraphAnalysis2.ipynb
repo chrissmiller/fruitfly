{
 "cells": [
  {
   "cell_type": "code",
   "execution_count": 254,
   "metadata": {},
   "outputs": [],
   "source": [
    "import networkx as nx\n",
    "import numpy as np\n",
    "import collections\n",
    "import matplotlib.pyplot as plt\n",
    "import csv\n",
    "import math"
   ]
  },
  {
   "cell_type": "code",
   "execution_count": 2,
   "metadata": {},
   "outputs": [],
   "source": [
    "roi_data = nx.read_edgelist('data/traced-roi-nohead.csv', delimiter=',', create_using=nx.DiGraph, nodetype=int, data=(('roi',str),('weight',int)))"
   ]
  },
  {
   "cell_type": "code",
   "execution_count": 14,
   "metadata": {},
   "outputs": [],
   "source": [
    "# Load instance and type foreach neuron\n",
    "ntypes = collections.defaultdict(list)\n",
    "\n",
    "with open('data/traced-neurons.csv') as nfile:\n",
    "    reader = csv.reader(nfile)\n",
    "    instance = {}\n",
    "    neuron_type = {}\n",
    "    head = None\n",
    "    for rows in reader:\n",
    "        if not head:\n",
    "            head = rows\n",
    "            continue\n",
    "        \n",
    "        instance[int(rows[0])] = rows[1]\n",
    "        neuron_type[int(rows[0])] = rows[2]\n",
    "        \n",
    "        ntypes[rows[2]].append(int(rows[0]))\n",
    "            \n",
    "\n",
    "# Set as attributes in the network\n",
    "nx.set_node_attributes(roi_data, instance, name=\"instance\")\n",
    "nx.set_node_attributes(roi_data, neuron_type, name=\"type\")\n",
    "\n",
    "types_map = []\n",
    "for ntype in ntypes.keys():\n",
    "    types_map.append((ntype, ntypes[ntype]))\n",
    "types_map.sort(key=lambda x: len(x[1]), reverse=True)\n",
    "\n",
    "# ignore untyped nodes\n",
    "types_map = types_map[1:]"
   ]
  },
  {
   "cell_type": "code",
   "execution_count": 207,
   "metadata": {},
   "outputs": [
    {
     "name": "stdout",
     "output_type": "stream",
     "text": [
      "0.26601450229968926\n"
     ]
    }
   ],
   "source": [
    "celegans = nx.read_edgelist('data/herm-nohead.csv', delimiter=' , ', create_using=nx.DiGraph)\n",
    "print(nx.average_clustering(celegans))\n",
    "celegans_triads = nx.triadic_census(celegans)\n",
    "in_deg_seq = [d for n, d in celegans.in_degree()]\n",
    "out_deg_seq = [d for n, d in celegans.out_degree()]\n",
    "\n",
    "random_celegans = []\n",
    "C_random_triads = []\n",
    "for i in range(3):\n",
    "    random_celegans.append(nx.directed_configuration_model(in_deg_seq, out_deg_seq, create_using=nx.DiGraph))\n",
    "    C_random_triads.append(nx.triadic_census(random_celegans[i]))\n",
    "    \n"
   ]
  },
  {
   "cell_type": "code",
   "execution_count": 208,
   "metadata": {},
   "outputs": [
    {
     "data": {
      "text/plain": [
       "True"
      ]
     },
     "execution_count": 208,
     "metadata": {},
     "output_type": "execute_result"
    }
   ],
   "source": [
    "celegans.has_edge('I2R', 'I1R')"
   ]
  },
  {
   "cell_type": "code",
   "execution_count": 302,
   "metadata": {},
   "outputs": [
    {
     "name": "stdout",
     "output_type": "stream",
     "text": [
      "450\n",
      "6625\n",
      "6390\n",
      "6098\n",
      "6529\n",
      "\n",
      "\n",
      "1854\n",
      "0.29247515380974914\n"
     ]
    }
   ],
   "source": [
    "\n",
    "print(len(celegans.nodes()))\n",
    "print(len(celegans.edges()))\n",
    "sumer=0\n",
    "for i in range(3):\n",
    "    print(C_random_triads[i]['030T'])\n",
    "    sumer += C_random_triads[i]['030T']\n",
    "print(\"\\n\")\n",
    "print(celegans_triads['030T'])\n",
    "\n",
    "print(celegans_triads['030T']*3/sumer)\n"
   ]
  },
  {
   "cell_type": "code",
   "execution_count": 79,
   "metadata": {},
   "outputs": [
    {
     "name": "stdout",
     "output_type": "stream",
     "text": [
      "0.23776727048739857\n"
     ]
    }
   ],
   "source": [
    "print(nx.average_clustering(roi_data))"
   ]
  },
  {
   "cell_type": "code",
   "execution_count": 75,
   "metadata": {},
   "outputs": [],
   "source": [
    "subgraphs = []\n",
    "\n",
    "for i in range(10):\n",
    "    \n",
    "    # Create a subgraph SG based on roi_data\n",
    "    SG = roi_data.__class__()\n",
    "    SG.add_nodes_from((n, roi_data.nodes[n]) for n in types_map[i][1])\n",
    "    SG.add_edges_from((n, nbr, d)\n",
    "        for n, nbrs in roi_data.adj.items() if n in types_map[i][1]\n",
    "        for nbr, d in nbrs.items() if nbr in types_map[i][1])\n",
    "    SG.graph.update(roi_data.graph)\n",
    "    subgraphs.append((types_map[i][0], SG))"
   ]
  },
  {
   "cell_type": "code",
   "execution_count": 76,
   "metadata": {},
   "outputs": [
    {
     "name": "stdout",
     "output_type": "stream",
     "text": [
      "Neuron type: KCab-sc. Neuron count: 828. Edge Count: 137006\n",
      "Neuron type: KCg. Neuron count: 701. Edge Count: 145775\n",
      "Neuron type: LC10. Neuron count: 448. Edge Count: 14449\n",
      "Neuron type: MC61. Neuron count: 346. Edge Count: 4864\n",
      "Neuron type: KCa'b'. Neuron count: 336. Edge Count: 37542\n",
      "Neuron type: LC12. Neuron count: 226. Edge Count: 15416\n",
      "Neuron type: LC17. Neuron count: 186. Edge Count: 18729\n",
      "Neuron type: olfactory LN. Neuron count: 175. Edge Count: 11969\n",
      "Neuron type: LC9. Neuron count: 135. Edge Count: 4512\n",
      "Neuron type: MC64. Neuron count: 121. Edge Count: 854\n"
     ]
    }
   ],
   "source": [
    "for i in range(10):\n",
    "    print(f\"Neuron type: {subgraphs[i][0]}. Neuron count: {len(subgraphs[i][1].nodes())}. Edge Count: {len(subgraphs[i][1].edges())}\")"
   ]
  },
  {
   "cell_type": "code",
   "execution_count": 78,
   "metadata": {},
   "outputs": [
    {
     "name": "stdout",
     "output_type": "stream",
     "text": [
      "Neuron type: KCab-sc. Avg clustering coefficient: 0.39866960651594974\n",
      "Neuron type: KCg. Avg clustering coefficient: 0.3747609557568788\n",
      "Neuron type: LC10. Avg clustering coefficient: 0.32697294299167406\n",
      "Neuron type: MC61. Avg clustering coefficient: 0.3353495371942025\n",
      "Neuron type: KCa'b'. Avg clustering coefficient: 0.6255333088977165\n",
      "Neuron type: LC12. Avg clustering coefficient: 0.31838586982440065\n",
      "Neuron type: LC17. Avg clustering coefficient: 0.554690786954756\n",
      "Neuron type: olfactory LN. Avg clustering coefficient: 0.6736822522892568\n",
      "Neuron type: LC9. Avg clustering coefficient: 0.4949327579662873\n",
      "Neuron type: MC64. Avg clustering coefficient: 0.19460154203645583\n"
     ]
    }
   ],
   "source": [
    "# Clustering coefficient estimation\n",
    "for i in range(10):\n",
    "    print(f\"Neuron type: {subgraphs[i][0]}. Avg clustering coefficient: {nx.average_clustering(subgraphs[i][1])}\")"
   ]
  },
  {
   "cell_type": "code",
   "execution_count": 36,
   "metadata": {},
   "outputs": [],
   "source": [
    "triadics = {}\n",
    "for i in range(5):\n",
    "    triadics[subgraphs[i][0]] = nx.triadic_census(subgraphs[i][1])\n"
   ]
  },
  {
   "cell_type": "code",
   "execution_count": 58,
   "metadata": {},
   "outputs": [
    {
     "name": "stdout",
     "output_type": "stream",
     "text": [
      "Run 0\n",
      "Processing graph 1\n",
      "Generating random graph...\n",
      "Finding triadics...\n",
      "Processing graph 2\n",
      "Generating random graph...\n",
      "Finding triadics...\n",
      "Processing graph 3\n",
      "Generating random graph...\n",
      "Finding triadics...\n",
      "Processing graph 4\n",
      "Generating random graph...\n",
      "Finding triadics...\n",
      "Processing graph 5\n",
      "Generating random graph...\n",
      "Finding triadics...\n",
      "Run 1\n",
      "Processing graph 1\n",
      "Generating random graph...\n",
      "Finding triadics...\n",
      "Processing graph 2\n",
      "Generating random graph...\n",
      "Finding triadics...\n",
      "Processing graph 3\n",
      "Generating random graph...\n",
      "Finding triadics...\n",
      "Processing graph 4\n",
      "Generating random graph...\n",
      "Finding triadics...\n",
      "Processing graph 5\n",
      "Generating random graph...\n",
      "Finding triadics...\n",
      "Run 2\n",
      "Processing graph 1\n",
      "Generating random graph...\n",
      "Finding triadics...\n",
      "Processing graph 2\n",
      "Generating random graph...\n",
      "Finding triadics...\n",
      "Processing graph 3\n",
      "Generating random graph...\n",
      "Finding triadics...\n",
      "Processing graph 4\n",
      "Generating random graph...\n",
      "Finding triadics...\n",
      "Processing graph 5\n",
      "Generating random graph...\n",
      "Finding triadics...\n",
      "Run 3\n",
      "Processing graph 1\n",
      "Generating random graph...\n",
      "Finding triadics...\n",
      "Processing graph 2\n",
      "Generating random graph...\n",
      "Finding triadics...\n",
      "Processing graph 3\n",
      "Generating random graph...\n",
      "Finding triadics...\n",
      "Processing graph 4\n",
      "Generating random graph...\n",
      "Finding triadics...\n",
      "Processing graph 5\n",
      "Generating random graph...\n",
      "Finding triadics...\n",
      "Run 4\n",
      "Processing graph 1\n",
      "Generating random graph...\n",
      "Finding triadics...\n",
      "Processing graph 2\n",
      "Generating random graph...\n",
      "Finding triadics...\n",
      "Processing graph 3\n",
      "Generating random graph...\n",
      "Finding triadics...\n",
      "Processing graph 4\n",
      "Generating random graph...\n",
      "Finding triadics...\n",
      "Processing graph 5\n",
      "Generating random graph...\n",
      "Finding triadics...\n"
     ]
    }
   ],
   "source": [
    "random_sets = []\n",
    "\n",
    "for j in range(5):\n",
    "    random_triadics = {}\n",
    "    random_graphs = {}\n",
    "    print(f\"Run {j}\")\n",
    "    for i, key in enumerate(triadics.keys()):\n",
    "        print(\"Processing graph {}\".format(i+1))\n",
    "        print(\"Generating random graph...\")\n",
    "        in_deg_seq = [d for n, d in subgraphs[i][1].in_degree()]\n",
    "        out_deg_seq = [d for n, d in subgraphs[i][1].out_degree()]\n",
    "\n",
    "        random_graphs[key] = nx.directed_configuration_model(in_deg_seq, out_deg_seq, create_using=nx.DiGraph)\n",
    "        print(\"Finding triadics...\")\n",
    "        random_triadics[key] = nx.triadic_census(random_graphs[key])\n",
    "    random_sets.append((random_triadics, random_graphs))"
   ]
  },
  {
   "cell_type": "code",
   "execution_count": 39,
   "metadata": {},
   "outputs": [
    {
     "data": {
      "text/plain": [
       "{'KCab-sc': {'003': 37622693,\n",
       "  '012': 18930406,\n",
       "  '102': 24382162,\n",
       "  '021D': 599820,\n",
       "  '021U': 606813,\n",
       "  '021C': 1197662,\n",
       "  '111D': 2678936,\n",
       "  '111U': 2674640,\n",
       "  '030T': 160229,\n",
       "  '030C': 51753,\n",
       "  '201': 2646252,\n",
       "  '120D': 216068,\n",
       "  '120U': 217689,\n",
       "  '120C': 423914,\n",
       "  '210': 1202964,\n",
       "  '300': 656075},\n",
       " 'KCg': {'003': 13186468,\n",
       "  '012': 11726911,\n",
       "  '102': 13672967,\n",
       "  '021D': 840580,\n",
       "  '021U': 860750,\n",
       "  '021C': 1681460,\n",
       "  '111D': 3631030,\n",
       "  '111U': 3631147,\n",
       "  '030T': 324307,\n",
       "  '030C': 105013,\n",
       "  '201': 3801137,\n",
       "  '120D': 355700,\n",
       "  '120U': 362685,\n",
       "  '120C': 702510,\n",
       "  '210': 1607629,\n",
       "  '300': 676256},\n",
       " 'LC10': {'003': 10655660,\n",
       "  '012': 2426371,\n",
       "  '102': 1375458,\n",
       "  '021D': 43087,\n",
       "  '021U': 40743,\n",
       "  '021C': 70541,\n",
       "  '111D': 76711,\n",
       "  '111U': 82420,\n",
       "  '030T': 13418,\n",
       "  '030C': 2347,\n",
       "  '201': 36874,\n",
       "  '120D': 9710,\n",
       "  '120U': 9932,\n",
       "  '120C': 12157,\n",
       "  '210': 22757,\n",
       "  '300': 7510},\n",
       " 'MC61': {'003': 5731965,\n",
       "  '012': 609458,\n",
       "  '102': 445850,\n",
       "  '021D': 4637,\n",
       "  '021U': 4937,\n",
       "  '021C': 8924,\n",
       "  '111D': 11306,\n",
       "  '111U': 11442,\n",
       "  '030T': 1000,\n",
       "  '030C': 242,\n",
       "  '201': 6027,\n",
       "  '120D': 832,\n",
       "  '120U': 962,\n",
       "  '120C': 1399,\n",
       "  '210': 3182,\n",
       "  '300': 1717},\n",
       " \"KCa'b'\": {'003': 1237519,\n",
       "  '012': 857223,\n",
       "  '102': 2543311,\n",
       "  '021D': 28667,\n",
       "  '021U': 28752,\n",
       "  '021C': 55375,\n",
       "  '111D': 243316,\n",
       "  '111U': 243454,\n",
       "  '030T': 9037,\n",
       "  '030C': 2896,\n",
       "  '201': 394447,\n",
       "  '120D': 23489,\n",
       "  '120U': 24105,\n",
       "  '120C': 45652,\n",
       "  '210': 248868,\n",
       "  '300': 279729}}"
      ]
     },
     "execution_count": 39,
     "metadata": {},
     "output_type": "execute_result"
    }
   ],
   "source": [
    "triadics.keys()\n",
    "triadics"
   ]
  },
  {
   "cell_type": "code",
   "execution_count": 73,
   "metadata": {},
   "outputs": [
    {
     "name": "stdout",
     "output_type": "stream",
     "text": [
      "[28951149, 28992072, 29054424, 28975803, 28940452]\n",
      "[37250337, 37249705, 37190775, 37271581, 37286989]\n",
      "[4222388, 4220945, 4272050, 4204152, 4179232]\n",
      "[4088454, 4080540, 4061076, 4085294, 4097947]\n",
      "[4091671, 4084244, 4067971, 4089358, 4103262]\n",
      "[8211181, 8197618, 8161444, 8210781, 8234790]\n",
      "[1896008, 1891684, 1906079, 1887723, 1877525]\n",
      "[1889086, 1889215, 1905465, 1884968, 1877157]\n",
      "[1845571, 1842337, 1826222, 1841207, 1856422]\n",
      "[621254, 617262, 613837, 618023, 623971]\n",
      "[221941, 222325, 225997, 221363, 218067]\n",
      "[216809, 217188, 217928, 216628, 216293]\n",
      "[217716, 216441, 217727, 216542, 215686]\n",
      "[436326, 437940, 436937, 436599, 434005]\n",
      "[103992, 104269, 105800, 103762, 102122]\n",
      "[4193, 4291, 4344, 4292, 4156]\n",
      "[10293689, 10356411, 10333475, 10339072, 10348449]\n",
      "[19726475, 19706486, 19722923, 19710340, 19721023]\n",
      "[3470602, 3505904, 3495009, 3491627, 3486179]\n",
      "[3288103, 3271284, 3279534, 3278011, 3281619]\n",
      "[3303986, 3283465, 3287016, 3288749, 3292458]\n",
      "[6612323, 6571100, 6587199, 6581784, 6586385]\n",
      "[2406536, 2415857, 2410382, 2414928, 2407559]\n",
      "[2401740, 2412144, 2407031, 2409410, 2401657]\n",
      "[2318271, 2301577, 2304710, 2302709, 2305536]\n",
      "[775695, 770345, 770821, 770952, 772813]\n",
      "[452024, 454238, 453409, 456343, 451702]\n",
      "[437183, 437788, 437357, 438249, 435615]\n",
      "[437568, 436907, 436705, 437689, 436034]\n",
      "[877341, 877993, 876627, 879910, 876198]\n",
      "[342081, 342129, 341454, 343727, 340248]\n",
      "[22933, 22922, 22898, 23050, 23075]\n",
      "[9880873, 9901420, 9886152, 9886400, 9871969]\n",
      "[4031195, 4016170, 4024112, 4031111, 4051160]\n",
      "[190709, 194645, 196514, 189957, 178521]\n",
      "[170686, 168172, 168704, 169445, 171347]\n",
      "[165689, 163214, 164496, 165389, 166957]\n",
      "[322907, 318126, 320337, 321165, 326183]\n",
      "[34441, 34863, 35113, 33876, 31990]\n",
      "[35790, 36418, 36722, 35158, 33670]\n",
      "[33053, 32212, 32587, 32880, 33786]\n",
      "[10107, 9948, 9945, 10194, 10268]\n",
      "[2116, 2147, 2342, 1945, 1936]\n",
      "[1860, 1984, 1939, 1985, 1841]\n",
      "[1978, 2021, 2190, 1919, 1930]\n",
      "[3758, 3760, 3946, 3732, 3661]\n",
      "[526, 577, 581, 523, 466]\n",
      "[8, 19, 16, 17, 11]\n",
      "[5397220, 5388550, 5398876, 5396903, 5396100]\n",
      "[1283118, 1295324, 1281551, 1285934, 1282778]\n",
      "[35367, 29273, 35762, 32916, 36561]\n",
      "[28800, 29755, 28631, 29001, 28836]\n",
      "[28672, 29664, 28425, 28747, 28696]\n",
      "[58826, 60665, 58474, 59053, 58878]\n",
      "[3628, 2993, 3771, 3347, 3681]\n",
      "[3650, 2984, 3712, 3349, 3759]\n",
      "[3036, 3144, 3012, 3054, 2982]\n",
      "[1009, 1094, 1033, 1044, 1036]\n",
      "[130, 79, 133, 86, 132]\n",
      "[98, 85, 137, 104, 122]\n",
      "[94, 99, 115, 98, 99]\n",
      "[218, 158, 227, 226, 206]\n",
      "[13, 13, 21, 18, 14]\n",
      "[1, 0, 0, 0, 0]\n",
      "[898319, 898645, 894420, 910484, 894370]\n",
      "[2015718, 2014052, 2006347, 2010250, 2006319]\n",
      "[395259, 397556, 401772, 413211, 403892]\n",
      "[386821, 385767, 384650, 377924, 383103]\n",
      "[386674, 385466, 384918, 378172, 383503]\n",
      "[779803, 777634, 775545, 762699, 773966]\n",
      "[311096, 312208, 316339, 319407, 317292]\n",
      "[311952, 311607, 316070, 318899, 317752]\n",
      "[304957, 303865, 303370, 293353, 301077]\n",
      "[103605, 103483, 103481, 99533, 102185]\n",
      "[63551, 64307, 65426, 68427, 67306]\n",
      "[62649, 63306, 63658, 63003, 63869]\n",
      "[62847, 63366, 63397, 63168, 63433]\n",
      "[126487, 127532, 127813, 127543, 128347]\n",
      "[52344, 53289, 54727, 55594, 55377]\n",
      "[3758, 3757, 3907, 4173, 4049]\n"
     ]
    }
   ],
   "source": [
    "from statistics import stdev,mean\n",
    "meanres = collections.defaultdict(dict)\n",
    "stdres = collections.defaultdict(dict)\n",
    "for key in random_sets[0][0].keys():\n",
    "    for motif in random_sets[0][0][key].keys():\n",
    "        vals = [random_sets[i][0][key][motif] for i in range(5)]\n",
    "        meanres[key][motif] = mean(vals)\n",
    "        stdres[key][motif] = stdev(vals)\n",
    "        print(vals)\n",
    "        "
   ]
  },
  {
   "cell_type": "code",
   "execution_count": 74,
   "metadata": {},
   "outputs": [
    {
     "data": {
      "image/png": "[encoded data removed]",
      "text/plain": [
       "<Figure size 720x360 with 1 Axes>"
      ]
     },
     "metadata": {
      "needs_background": "light"
     },
     "output_type": "display_data"
    },
    {
     "data": {
      "image/png": "[encoded data removed]",
      "text/plain": [
       "<Figure size 720x360 with 1 Axes>"
      ]
     },
     "metadata": {
      "needs_background": "light"
     },
     "output_type": "display_data"
    },
    {
     "data": {
      "image/png": "[encoded data removed]",
      "text/plain": [
       "<Figure size 720x360 with 1 Axes>"
      ]
     },
     "metadata": {
      "needs_background": "light"
     },
     "output_type": "display_data"
    },
    {
     "data": {
      "image/png": "[encoded data removed]",
      "text/plain": [
       "<Figure size 720x360 with 1 Axes>"
      ]
     },
     "metadata": {
      "needs_background": "light"
     },
     "output_type": "display_data"
    },
    {
     "data": {
      "image/png": "[encoded data removed]",
      "text/plain": [
       "<Figure size 720x360 with 1 Axes>"
      ]
     },
     "metadata": {
      "needs_background": "light"
     },
     "output_type": "display_data"
    }
   ],
   "source": [
    "for key in meanres.keys():\n",
    "    plt.figure(figsize=(10,5))\n",
    "    plt.errorbar(meanres[key].keys(), meanres[key].values(), yerr=[err*3 for err in stdres[key].values()], fmt='.k')\n",
    "    plt.plot(list(triadics[key].keys()), list(triadics[key].values()), 'r+')\n",
    "    plt.show()"
   ]
  },
  {
   "cell_type": "code",
   "execution_count": null,
   "metadata": {},
   "outputs": [],
   "source": [
    "for "
   ]
  },
  {
   "cell_type": "code",
   "execution_count": 56,
   "metadata": {},
   "outputs": [
    {
     "data": {
      "image/png": "[encoded data removed]",
      "text/plain": [
       "<Figure size 720x360 with 1 Axes>"
      ]
     },
     "metadata": {
      "needs_background": "light"
     },
     "output_type": "display_data"
    },
    {
     "data": {
      "image/png": "[encoded data removed]",
      "text/plain": [
       "<Figure size 720x360 with 1 Axes>"
      ]
     },
     "metadata": {
      "needs_background": "light"
     },
     "output_type": "display_data"
    },
    {
     "data": {
      "image/png": "[encoded data removed]",
      "text/plain": [
       "<Figure size 720x360 with 1 Axes>"
      ]
     },
     "metadata": {
      "needs_background": "light"
     },
     "output_type": "display_data"
    },
    {
     "data": {
      "image/png": "[encoded data removed]",
      "text/plain": [
       "<Figure size 720x360 with 1 Axes>"
      ]
     },
     "metadata": {
      "needs_background": "light"
     },
     "output_type": "display_data"
    },
    {
     "data": {
      "image/png": "[encoded data removed]",
      "text/plain": [
       "<Figure size 720x360 with 1 Axes>"
      ]
     },
     "metadata": {
      "needs_background": "light"
     },
     "output_type": "display_data"
    }
   ],
   "source": [
    "diffs = collections.defaultdict(dict)\n",
    "\n",
    "for key in triadics:\n",
    "    for motif in triadics[key].keys():\n",
    "        diffs[key][motif] = triadics[key][motif] - random_triadics[key][motif]\n",
    "for key in diffs:\n",
    "    plt.figure(figsize=(10,5))\n",
    "    plt.bar(list(diffs[key].keys())[3:], list(diffs[key].values())[3:])\n",
    "    plt.show()\n",
    "    \n",
    "# Feedback loop (030C) underrepresented\n",
    "# "
   ]
  },
  {
   "cell_type": "code",
   "execution_count": null,
   "metadata": {},
   "outputs": [],
   "source": []
  },
  {
   "cell_type": "code",
   "execution_count": null,
   "metadata": {},
   "outputs": [],
   "source": []
  },
  {
   "cell_type": "code",
   "execution_count": null,
   "metadata": {},
   "outputs": [],
   "source": []
  },
  {
   "cell_type": "code",
   "execution_count": 80,
   "metadata": {},
   "outputs": [
    {
     "ename": "KeyboardInterrupt",
     "evalue": "",
     "output_type": "error",
     "traceback": [
      "\u001b[0;31m---------------------------------------------------------------------------\u001b[0m",
      "\u001b[0;31mKeyError\u001b[0m                                  Traceback (most recent call last)",
      "\u001b[0;32m/Library/Frameworks/Python.framework/Versions/3.8/lib/python3.8/_collections_abc.py\u001b[0m in \u001b[0;36m__contains__\u001b[0;34m(self, key)\u001b[0m\n\u001b[1;32m    665\u001b[0m         \u001b[0;32mtry\u001b[0m\u001b[0;34m:\u001b[0m\u001b[0;34m\u001b[0m\u001b[0;34m\u001b[0m\u001b[0m\n\u001b[0;32m--> 666\u001b[0;31m             \u001b[0mself\u001b[0m\u001b[0;34m[\u001b[0m\u001b[0mkey\u001b[0m\u001b[0;34m]\u001b[0m\u001b[0;34m\u001b[0m\u001b[0;34m\u001b[0m\u001b[0m\n\u001b[0m\u001b[1;32m    667\u001b[0m         \u001b[0;32mexcept\u001b[0m \u001b[0mKeyError\u001b[0m\u001b[0;34m:\u001b[0m\u001b[0;34m\u001b[0m\u001b[0;34m\u001b[0m\u001b[0m\n",
      "\u001b[0;32m/Library/Frameworks/Python.framework/Versions/3.8/lib/python3.8/site-packages/networkx/classes/coreviews.py\u001b[0m in \u001b[0;36m__getitem__\u001b[0;34m(self, key)\u001b[0m\n\u001b[1;32m     53\u001b[0m     \u001b[0;32mdef\u001b[0m \u001b[0m__getitem__\u001b[0m\u001b[0;34m(\u001b[0m\u001b[0mself\u001b[0m\u001b[0;34m,\u001b[0m \u001b[0mkey\u001b[0m\u001b[0;34m)\u001b[0m\u001b[0;34m:\u001b[0m\u001b[0;34m\u001b[0m\u001b[0;34m\u001b[0m\u001b[0m\n\u001b[0;32m---> 54\u001b[0;31m         \u001b[0;32mreturn\u001b[0m \u001b[0mself\u001b[0m\u001b[0;34m.\u001b[0m\u001b[0m_atlas\u001b[0m\u001b[0;34m[\u001b[0m\u001b[0mkey\u001b[0m\u001b[0;34m]\u001b[0m\u001b[0;34m\u001b[0m\u001b[0;34m\u001b[0m\u001b[0m\n\u001b[0m\u001b[1;32m     55\u001b[0m \u001b[0;34m\u001b[0m\u001b[0m\n",
      "\u001b[0;31mKeyError\u001b[0m: 387512128",
      "\nDuring handling of the above exception, another exception occurred:\n",
      "\u001b[0;31mKeyboardInterrupt\u001b[0m                         Traceback (most recent call last)",
      "\u001b[0;32m<ipython-input-80-af433fc3f921>\u001b[0m in \u001b[0;36m<module>\u001b[0;34m\u001b[0m\n\u001b[0;32m----> 1\u001b[0;31m \u001b[0mfull_triadics\u001b[0m \u001b[0;34m=\u001b[0m \u001b[0mnx\u001b[0m\u001b[0;34m.\u001b[0m\u001b[0mtriadic_census\u001b[0m\u001b[0;34m(\u001b[0m\u001b[0mroi_data\u001b[0m\u001b[0;34m)\u001b[0m\u001b[0;34m\u001b[0m\u001b[0;34m\u001b[0m\u001b[0m\n\u001b[0m\u001b[1;32m      2\u001b[0m \u001b[0mprint\u001b[0m\u001b[0;34m(\u001b[0m\u001b[0mfull_triadics\u001b[0m\u001b[0;34m)\u001b[0m\u001b[0;34m\u001b[0m\u001b[0;34m\u001b[0m\u001b[0m\n",
      "\u001b[0;32m</Library/Frameworks/Python.framework/Versions/3.8/lib/python3.8/site-packages/decorator.py:decorator-gen-535>\u001b[0m in \u001b[0;36mtriadic_census\u001b[0;34m(G)\u001b[0m\n",
      "\u001b[0;32m/Library/Frameworks/Python.framework/Versions/3.8/lib/python3.8/site-packages/networkx/utils/decorators.py\u001b[0m in \u001b[0;36m_not_implemented_for\u001b[0;34m(not_implement_for_func, *args, **kwargs)\u001b[0m\n\u001b[1;32m     80\u001b[0m             \u001b[0;32mraise\u001b[0m \u001b[0mnx\u001b[0m\u001b[0;34m.\u001b[0m\u001b[0mNetworkXNotImplemented\u001b[0m\u001b[0;34m(\u001b[0m\u001b[0mmsg\u001b[0m\u001b[0;34m)\u001b[0m\u001b[0;34m\u001b[0m\u001b[0;34m\u001b[0m\u001b[0m\n\u001b[1;32m     81\u001b[0m         \u001b[0;32melse\u001b[0m\u001b[0;34m:\u001b[0m\u001b[0;34m\u001b[0m\u001b[0;34m\u001b[0m\u001b[0m\n\u001b[0;32m---> 82\u001b[0;31m             \u001b[0;32mreturn\u001b[0m \u001b[0mnot_implement_for_func\u001b[0m\u001b[0;34m(\u001b[0m\u001b[0;34m*\u001b[0m\u001b[0margs\u001b[0m\u001b[0;34m,\u001b[0m \u001b[0;34m**\u001b[0m\u001b[0mkwargs\u001b[0m\u001b[0;34m)\u001b[0m\u001b[0;34m\u001b[0m\u001b[0;34m\u001b[0m\u001b[0m\n\u001b[0m\u001b[1;32m     83\u001b[0m     \u001b[0;32mreturn\u001b[0m \u001b[0m_not_implemented_for\u001b[0m\u001b[0;34m\u001b[0m\u001b[0;34m\u001b[0m\u001b[0m\n\u001b[1;32m     84\u001b[0m \u001b[0;34m\u001b[0m\u001b[0m\n",
      "\u001b[0;32m/Library/Frameworks/Python.framework/Versions/3.8/lib/python3.8/site-packages/networkx/algorithms/triads.py\u001b[0m in \u001b[0;36mtriadic_census\u001b[0;34m(G)\u001b[0m\n\u001b[1;32m    105\u001b[0m                                    \u001b[0mv\u001b[0m \u001b[0;32mnot\u001b[0m \u001b[0;32min\u001b[0m \u001b[0mG\u001b[0m\u001b[0;34m.\u001b[0m\u001b[0mpred\u001b[0m\u001b[0;34m[\u001b[0m\u001b[0mw\u001b[0m\u001b[0;34m]\u001b[0m \u001b[0;32mand\u001b[0m\u001b[0;34m\u001b[0m\u001b[0;34m\u001b[0m\u001b[0m\n\u001b[1;32m    106\u001b[0m                                    v not in G.succ[w]):\n\u001b[0;32m--> 107\u001b[0;31m                     \u001b[0mcode\u001b[0m \u001b[0;34m=\u001b[0m \u001b[0m_tricode\u001b[0m\u001b[0;34m(\u001b[0m\u001b[0mG\u001b[0m\u001b[0;34m,\u001b[0m \u001b[0mv\u001b[0m\u001b[0;34m,\u001b[0m \u001b[0mu\u001b[0m\u001b[0;34m,\u001b[0m \u001b[0mw\u001b[0m\u001b[0;34m)\u001b[0m\u001b[0;34m\u001b[0m\u001b[0;34m\u001b[0m\u001b[0m\n\u001b[0m\u001b[1;32m    108\u001b[0m                     \u001b[0mcensus\u001b[0m\u001b[0;34m[\u001b[0m\u001b[0mTRICODE_TO_NAME\u001b[0m\u001b[0;34m[\u001b[0m\u001b[0mcode\u001b[0m\u001b[0;34m]\u001b[0m\u001b[0;34m]\u001b[0m \u001b[0;34m+=\u001b[0m \u001b[0;36m1\u001b[0m\u001b[0;34m\u001b[0m\u001b[0;34m\u001b[0m\u001b[0m\n\u001b[1;32m    109\u001b[0m \u001b[0;34m\u001b[0m\u001b[0m\n",
      "\u001b[0;32m/Library/Frameworks/Python.framework/Versions/3.8/lib/python3.8/site-packages/networkx/algorithms/triads.py\u001b[0m in \u001b[0;36m_tricode\u001b[0;34m(G, v, u, w)\u001b[0m\n\u001b[1;32m     47\u001b[0m     combos = ((v, u, 1), (u, v, 2), (v, w, 4), (w, v, 8), (u, w, 16),\n\u001b[1;32m     48\u001b[0m               (w, u, 32))\n\u001b[0;32m---> 49\u001b[0;31m     \u001b[0;32mreturn\u001b[0m \u001b[0msum\u001b[0m\u001b[0;34m(\u001b[0m\u001b[0mx\u001b[0m \u001b[0;32mfor\u001b[0m \u001b[0mu\u001b[0m\u001b[0;34m,\u001b[0m \u001b[0mv\u001b[0m\u001b[0;34m,\u001b[0m \u001b[0mx\u001b[0m \u001b[0;32min\u001b[0m \u001b[0mcombos\u001b[0m \u001b[0;32mif\u001b[0m \u001b[0mv\u001b[0m \u001b[0;32min\u001b[0m \u001b[0mG\u001b[0m\u001b[0;34m[\u001b[0m\u001b[0mu\u001b[0m\u001b[0;34m]\u001b[0m\u001b[0;34m)\u001b[0m\u001b[0;34m\u001b[0m\u001b[0;34m\u001b[0m\u001b[0m\n\u001b[0m\u001b[1;32m     50\u001b[0m \u001b[0;34m\u001b[0m\u001b[0m\n\u001b[1;32m     51\u001b[0m \u001b[0;34m\u001b[0m\u001b[0m\n",
      "\u001b[0;32m/Library/Frameworks/Python.framework/Versions/3.8/lib/python3.8/site-packages/networkx/algorithms/triads.py\u001b[0m in \u001b[0;36m<genexpr>\u001b[0;34m(.0)\u001b[0m\n\u001b[1;32m     47\u001b[0m     combos = ((v, u, 1), (u, v, 2), (v, w, 4), (w, v, 8), (u, w, 16),\n\u001b[1;32m     48\u001b[0m               (w, u, 32))\n\u001b[0;32m---> 49\u001b[0;31m     \u001b[0;32mreturn\u001b[0m \u001b[0msum\u001b[0m\u001b[0;34m(\u001b[0m\u001b[0mx\u001b[0m \u001b[0;32mfor\u001b[0m \u001b[0mu\u001b[0m\u001b[0;34m,\u001b[0m \u001b[0mv\u001b[0m\u001b[0;34m,\u001b[0m \u001b[0mx\u001b[0m \u001b[0;32min\u001b[0m \u001b[0mcombos\u001b[0m \u001b[0;32mif\u001b[0m \u001b[0mv\u001b[0m \u001b[0;32min\u001b[0m \u001b[0mG\u001b[0m\u001b[0;34m[\u001b[0m\u001b[0mu\u001b[0m\u001b[0;34m]\u001b[0m\u001b[0;34m)\u001b[0m\u001b[0;34m\u001b[0m\u001b[0;34m\u001b[0m\u001b[0m\n\u001b[0m\u001b[1;32m     50\u001b[0m \u001b[0;34m\u001b[0m\u001b[0m\n\u001b[1;32m     51\u001b[0m \u001b[0;34m\u001b[0m\u001b[0m\n",
      "\u001b[0;32m/Library/Frameworks/Python.framework/Versions/3.8/lib/python3.8/_collections_abc.py\u001b[0m in \u001b[0;36m__contains__\u001b[0;34m(self, key)\u001b[0m\n\u001b[1;32m    664\u001b[0m     \u001b[0;32mdef\u001b[0m \u001b[0m__contains__\u001b[0m\u001b[0;34m(\u001b[0m\u001b[0mself\u001b[0m\u001b[0;34m,\u001b[0m \u001b[0mkey\u001b[0m\u001b[0;34m)\u001b[0m\u001b[0;34m:\u001b[0m\u001b[0;34m\u001b[0m\u001b[0;34m\u001b[0m\u001b[0m\n\u001b[1;32m    665\u001b[0m         \u001b[0;32mtry\u001b[0m\u001b[0;34m:\u001b[0m\u001b[0;34m\u001b[0m\u001b[0;34m\u001b[0m\u001b[0m\n\u001b[0;32m--> 666\u001b[0;31m             \u001b[0mself\u001b[0m\u001b[0;34m[\u001b[0m\u001b[0mkey\u001b[0m\u001b[0;34m]\u001b[0m\u001b[0;34m\u001b[0m\u001b[0;34m\u001b[0m\u001b[0m\n\u001b[0m\u001b[1;32m    667\u001b[0m         \u001b[0;32mexcept\u001b[0m \u001b[0mKeyError\u001b[0m\u001b[0;34m:\u001b[0m\u001b[0;34m\u001b[0m\u001b[0;34m\u001b[0m\u001b[0m\n\u001b[1;32m    668\u001b[0m             \u001b[0;32mreturn\u001b[0m \u001b[0;32mFalse\u001b[0m\u001b[0;34m\u001b[0m\u001b[0;34m\u001b[0m\u001b[0m\n",
      "\u001b[0;31mKeyboardInterrupt\u001b[0m: "
     ]
    }
   ],
   "source": [
    "\n",
    "full_triadics = nx.triadic_census(roi_data)\n",
    "print(full_triadics)"
   ]
  },
  {
   "cell_type": "code",
   "execution_count": null,
   "metadata": {},
   "outputs": [],
   "source": [
    "print(\"Generating random graph...\")\n",
    "in_deg_seq = [d for n, d in roi_data.in_degree()]\n",
    "out_deg_seq = [d for n, d in roi_data.out_degree()]\n",
    "\n",
    "random_roi_data = nx.directed_configuration_model(in_deg_seq, out_deg_seq, create_using=nx.DiGraph)\n",
    "print(\"Finding triadics...\")\n",
    "random_roi_census = nx.triadic_census(random_roi_data)\n",
    "print(random_roi_census)"
   ]
  },
  {
   "cell_type": "code",
   "execution_count": null,
   "metadata": {},
   "outputs": [],
   "source": [
    "print(\"Generating random graph...\")\n",
    "in_deg_seq = [d for n, d in roi_data.in_degree()]\n",
    "out_deg_seq = [d for n, d in roi_data.out_degree()]\n",
    "\n",
    "random_roi_data_2 = nx.directed_configuration_model(in_deg_seq, out_deg_seq, create_using=nx.DiGraph)\n",
    "print(\"Finding triadics...\")\n",
    "random_roi_census_2 = nx.triadic_census(random_roi_data_2)\n",
    "print(random_roi_census_2)"
   ]
  },
  {
   "cell_type": "code",
   "execution_count": null,
   "metadata": {},
   "outputs": [],
   "source": [
    "print(\"Generating random graph...\")\n",
    "in_deg_seq = [d for n, d in roi_data.in_degree()]\n",
    "out_deg_seq = [d for n, d in roi_data.out_degree()]\n",
    "\n",
    "random_roi_data_3 = nx.directed_configuration_model(in_deg_seq, out_deg_seq, create_using=nx.DiGraph)\n",
    "print(\"Finding triadics...\")\n",
    "random_roi_census_3 = nx.triadic_census(random_roi_data_3)\n",
    "print(random_roi_census_3)"
   ]
  },
  {
   "cell_type": "code",
   "execution_count": 84,
   "metadata": {},
   "outputs": [],
   "source": [
    "# Ran on GCP for speed\n",
    "roi_census = {'003': 1634850160022, '012': 44760636961, '102': 13196582686, '021D': 183740361, '021U': 168904043, '021C': 261759972, '111D': 143878452, '111U': 170865475, '030T': 25992210, '030C': 2927270, '201': 63074717, '120D': 8194706, '120U': 13712134, '120C': 10875993, '210': 17962014, '300': 7034004} \n",
    "rand_rois = [None, None, None]\n",
    "rand_rois[0] = {'003': 1623430303761, '012': 68047581158, '102': 659169269, '021D': 455236980, '021U': 425527730, '021C': 779919250, '111D': 28617184, '111U': 34063393, '030T': 17751175, '030C': 4624952, '201': 1134506, '120D': 513137, '120U': 682314, '120C': 1042911, '210': 129100, '300': 4200}\n",
    "rand_rois[1] = {'003': 1623436480633, '012': 68039014756, '102': 663603512, '021D': 454296680, '021U': 425055185, '021C': 778494627, '111D': 28996045, '111U': 34454807, '030T': 17703937, '030C': 4608114, '201': 1187861, '120D': 519507, '120U': 690097, '120C': 1056648, '210': 134131, '300': 4480}\n",
    "rand_rois[2] = {'003': 1623440058566, '012': 68031573386, '102': 667270185, '021D': 454357195, '021U': 425195252, '021C': 778745450, '111D': 28916343, '111U': 34360965, '030T': 17658455, '030C': 4603555, '201': 1169535, '120D': 514646, '120U': 684805, '120C': 1053929, '210': 134222, '300': 4531}\n",
    "ssst = '''\n",
    "Structural Stability Tiers (High to Low):\n",
    "4 (021D), 5 (021U), 6 (021C)\n",
    "9 (030T), 7 (111D), 8 (111U), 10 (030C)\n",
    "12 (120D), 13 (120U), 11 (201), 14 (120C)\n",
    "15 (210)\n",
    "16 (300)\n",
    "'''"
   ]
  },
  {
   "cell_type": "code",
   "execution_count": 303,
   "metadata": {},
   "outputs": [
    {
     "name": "stdout",
     "output_type": "stream",
     "text": [
      "17751175\n",
      "17703937\n",
      "17658455\n",
      "\n",
      "\n",
      "25992210\n",
      "1.4681113396130974\n"
     ]
    }
   ],
   "source": [
    "sumer = 0\n",
    "for i in range(3):\n",
    "    print(rand_rois[i]['030T'])\n",
    "    sumer += rand_rois[i]['030T']\n",
    "print(\"\\n\")\n",
    "print(roi_census['030T'])\n",
    "\n",
    "print(roi_census['030T']*3/sumer)\n"
   ]
  },
  {
   "cell_type": "code",
   "execution_count": 317,
   "metadata": {},
   "outputs": [],
   "source": [
    "keys = ['021D', '021U', '021C', '111D', '111U', '201', '030T', '030C', '120D', '120U', '120C', '210']#, '300']\n",
    "blocks = []\n",
    "#keys = ['021D', '021U', '021C', '030T', '111D', '111U', '030C', '120D', '120U', '201', '120C', '210', '300']\n",
    "#blocks = [2.5, 6.5, 10.5, 11.5]\n",
    "rand_means = [mean([rand_rois[i][key] for i in range(3)]) for key in keys]\n",
    "rand_stdevs = [stdev([rand_rois[i][key] for i in range(3)]) for key in keys]\n",
    "reals = [roi_census[key] for key in keys]\n",
    "z_scores = [(reals[i] - rand_means[i])/rand_stdevs[i] for i in range(len(reals))]\n",
    "standardizer = sum([val**2 for val in z_scores])**.5\n",
    "std_zscores = [z_score/standardizer for z_score in z_scores]\n",
    "std_zscores = z_scores\n",
    "\n"
   ]
  },
  {
   "cell_type": "code",
   "execution_count": 318,
   "metadata": {},
   "outputs": [
    {
     "name": "stdout",
     "output_type": "stream",
     "text": [
      "[13137, 11385, 17028, 22389, 24955, 16710, 1854, 76, 2103, 2346, 904, 3318]\n",
      "\n",
      "\n",
      "\n",
      "[53209, 47492, 93814, 8306, 8299, 469, 6339, 1841, 404, 356, 684, 115]\n"
     ]
    }
   ],
   "source": [
    "C_rand_means = [mean([C_random_triads[i][key] for i in range(3)]) for key in keys]\n",
    "C_rand_stdevs = [stdev([C_random_triads[i][key] for i in range(3)]) for key in keys]\n",
    "C_reals = [celegans_triads[key] for key in keys]\n",
    "print(C_reals)\n",
    "print(\"\\n\\n\")\n",
    "print([int(randm) for randm in C_rand_means])\n",
    "C_z_scores = [(C_reals[i] - C_rand_means[i])/C_rand_stdevs[i] for i in range(len(C_reals))]\n",
    "C_standardizer = sum([val**2 for val in C_z_scores])**.5\n",
    "C_std_zscores = [C_z_score/C_standardizer for C_z_score in C_z_scores]\n",
    "C_std_zscores = C_z_scores\n"
   ]
  },
  {
   "cell_type": "code",
   "execution_count": 319,
   "metadata": {},
   "outputs": [
    {
     "data": {
      "text/plain": [
       "0.022561582440974188"
      ]
     },
     "execution_count": 319,
     "metadata": {},
     "output_type": "execute_result"
    }
   ],
   "source": [
    "((reals[6] - rand_means[6])/rand_stdevs[6])/standardizer"
   ]
  },
  {
   "cell_type": "markdown",
   "metadata": {},
   "source": []
  },
  {
   "cell_type": "code",
   "execution_count": 320,
   "metadata": {},
   "outputs": [
    {
     "data": {
      "image/png": "[encoded data removed]",
      "text/plain": [
       "<Figure size 720x360 with 1 Axes>"
      ]
     },
     "metadata": {
      "needs_background": "light"
     },
     "output_type": "display_data"
    }
   ],
   "source": [
    "plt.figure(figsize=(10,5))\n",
    "\n",
    "#plt.plot(list(range(1,len(std_zscores)+1)), std_zscores, 'r+')\n",
    "res = [(score) for score in std_zscores]\n",
    "normres = [item/max(res) for item in res]\n",
    "plt.plot(keys, normres , 'r+', label='Drosophila Melanogaster')\n",
    "C_res = [(score) for score in C_std_zscores]\n",
    "C_normres = [item/max(C_res) for item in C_res]\n",
    "plt.plot(keys, C_normres, 'b.', label='Caenorhabditis Elegans')\n",
    "plt.hlines(0, 0, 11, linestyle='dashed')\n",
    "plt.vlines(blocks, -.2, 1)\n",
    "plt.legend()\n",
    "plt.savefig('/Users/chris/Desktop/fruitfly/motifs_subset.pdf')\n",
    "plt.show()"
   ]
  },
  {
   "cell_type": "code",
   "execution_count": 121,
   "metadata": {},
   "outputs": [
    {
     "data": {
      "image/png": "[encoded data removed]",
      "text/plain": [
       "<Figure size 720x360 with 1 Axes>"
      ]
     },
     "metadata": {
      "needs_background": "light"
     },
     "output_type": "display_data"
    }
   ],
   "source": [
    "plt.figure(figsize=(10,5))\n",
    "plt.plot(list(roi_census.keys()), [round((roi_census[key] - int(mean([rand_rois[i][key] for i in range(3)])))/roi_census[key], 3) for key in roi_census.keys()], 'r+')\n",
    "plt.hlines(0, 0, 15)\n",
    "plt.show()"
   ]
  },
  {
   "cell_type": "code",
   "execution_count": 95,
   "metadata": {},
   "outputs": [
    {
     "data": {
      "image/png": "[encoded data removed]",
      "text/plain": [
       "<Figure size 720x360 with 1 Axes>"
      ]
     },
     "metadata": {
      "needs_background": "light"
     },
     "output_type": "display_data"
    }
   ],
   "source": [
    "plt.figure(figsize=(10,5))\n",
    "plt.plot(list(roi_census.keys())[3:], list(roi_census.values())[3:], 'r+')\n",
    "plt.plot(list(roi_census.keys())[3:], [mean([rand_rois[i][key] for i in range(3)]) for key in roi_census.keys()][3:], 'bo')\n",
    "plt.show()"
   ]
  },
  {
   "cell_type": "raw",
   "metadata": {},
   "source": [
    "round"
   ]
  },
  {
   "cell_type": "code",
   "execution_count": null,
   "metadata": {},
   "outputs": [],
   "source": []
  }
 ],
 "metadata": {
  "kernelspec": {
   "display_name": "Python 3",
   "language": "python",
   "name": "python3"
  },
  "language_info": {
   "codemirror_mode": {
    "name": "ipython",
    "version": 3
   },
   "file_extension": ".py",
   "mimetype": "text/x-python",
   "name": "python",
   "nbconvert_exporter": "python",
   "pygments_lexer": "ipython3",
   "version": "3.8.1"
  }
 },
 "nbformat": 4,
 "nbformat_minor": 4
}
